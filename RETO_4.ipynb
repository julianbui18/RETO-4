{
  "nbformat": 4,
  "nbformat_minor": 0,
  "metadata": {
    "colab": {
      "provenance": [],
      "authorship_tag": "ABX9TyMSimhc3/DFYuGQNObQuw+s",
      "include_colab_link": true
    },
    "kernelspec": {
      "name": "python3",
      "display_name": "Python 3"
    },
    "language_info": {
      "name": "python"
    }
  },
  "cells": [
    {
      "cell_type": "markdown",
      "metadata": {
        "id": "view-in-github",
        "colab_type": "text"
      },
      "source": [
        "<a href=\"https://colab.research.google.com/github/julianbui18/RETO-4/blob/main/RETO_4.ipynb\" target=\"_parent\"><img src=\"https://colab.research.google.com/assets/colab-badge.svg\" alt=\"Open In Colab\"/></a>"
      ]
    },
    {
      "cell_type": "markdown",
      "source": [
        "# **REPORTE #4**\n",
        "El trabajo consiste en hacer codigos dependiendo de las condiciones planteadas en cada punto"
      ],
      "metadata": {
        "id": "JwOk4cRLpMU8"
      }
    },
    {
      "cell_type": "markdown",
      "source": [
        "## PUNTO 1\n",
        "Dado un número entero, determinar si ese número corresponde al código ASCII de una vocal minúscula."
      ],
      "metadata": {
        "id": "thWoI5zPdSCB"
      }
    },
    {
      "cell_type": "code",
      "execution_count": 5,
      "metadata": {
        "colab": {
          "base_uri": "https://localhost:8080/"
        },
        "id": "il1bwhFHdIpB",
        "outputId": "49ff5d02-ca6d-44db-dc4b-2413b00f5d11"
      },
      "outputs": [
        {
          "output_type": "stream",
          "name": "stdout",
          "text": [
            "Ingrese un número entero: 97\n",
            "El número corresponde a una vocal minúscula ASCII: a\n"
          ]
        }
      ],
      "source": [
        "numero : int\n",
        "numero = int(input(\"Ingrese un número entero: \"))\n",
        "if numero == ord('a') or numero == ord('e') or numero == ord('i') or numero == ord('o') or numero == ord('u'):\n",
        "  print(\"El número corresponde a una vocal minúscula ASCII:\", chr(numero))\n",
        "else:\n",
        "  print(\"El número no corresponde a una vocal minúscula ASCII\")"
      ]
    },
    {
      "cell_type": "markdown",
      "source": [
        "## PUNTO 2\n",
        "Dada una cadena de longitud 1, determine si el código ASCII de primera letra de la cadena es par o no."
      ],
      "metadata": {
        "id": "7Y9QZ1bAe-7R"
      }
    },
    {
      "cell_type": "code",
      "source": [
        "letra = input(\"Ingrese una sola letra una letra: \")\n",
        "codigo = ord(letra)\n",
        "print(\"El código ASCII es:\", codigo)\n",
        "if codigo % 2 == 0:\n",
        "  print(\"El código es par\")\n",
        "else:\n",
        "  print(\"El código es impar\")"
      ],
      "metadata": {
        "colab": {
          "base_uri": "https://localhost:8080/"
        },
        "id": "5drKes71fAxN",
        "outputId": "45cc840f-ca8f-433f-bbe3-81f1b2b76cef"
      },
      "execution_count": 14,
      "outputs": [
        {
          "output_type": "stream",
          "name": "stdout",
          "text": [
            "Ingrese una sola letra una letra: g\n",
            "El código ASCII es: 103\n",
            "El código es impar\n"
          ]
        }
      ]
    },
    {
      "cell_type": "markdown",
      "source": [
        "## PUNTO 3\n",
        "Dado un carácter, construya un programa en Python para determinar si el carácter es un dígito o no."
      ],
      "metadata": {
        "id": "Zo7aiydsjD4F"
      }
    },
    {
      "cell_type": "code",
      "source": [
        "caracter = input(\"Ingrese un carácter: \")\n",
        "codigo = ord(caracter)\n",
        "if codigo >= ord('0') and codigo <= ord('9'):\n",
        "  print(\"Es un dígito\")\n",
        "else:\n",
        "  print(\"No es un dígito\")"
      ],
      "metadata": {
        "colab": {
          "base_uri": "https://localhost:8080/"
        },
        "id": "URmeYM4djFsT",
        "outputId": "cc296bb7-917a-441f-c75c-a5f2d23fef5a"
      },
      "execution_count": 25,
      "outputs": [
        {
          "output_type": "stream",
          "name": "stdout",
          "text": [
            "Ingrese un carácter: 8\n",
            "Es un dígito\n"
          ]
        }
      ]
    },
    {
      "cell_type": "markdown",
      "source": [
        "## PUNTO 4\n",
        "Realice un programa que lea dos números reales y determine si el primero es múltiplo del segundo."
      ],
      "metadata": {
        "id": "AFMUpIJBoaLs"
      }
    },
    {
      "cell_type": "code",
      "source": [
        "a : float\n",
        "b : float\n",
        "a = float(input(\"Ingrese el primer número: \"))\n",
        "b = float(input(\"Ingrese el segundo número: \"))\n",
        "if a % b == 0:\n",
        "  print(\"El primero es multiplo de del segundo\")\n",
        "elif a % b !=0:\n",
        "  print(\"El primero no es multiplo de segundo\")"
      ],
      "metadata": {
        "colab": {
          "base_uri": "https://localhost:8080/"
        },
        "id": "KsFFpxlBogY3",
        "outputId": "8d9865d8-b765-4689-b331-0e3b63729e42"
      },
      "execution_count": 26,
      "outputs": [
        {
          "output_type": "stream",
          "name": "stdout",
          "text": [
            "Ingrese el primer número: 4\n",
            "Ingrese el segundo número: 2\n",
            "El primero es multiplo de del segundo\n"
          ]
        }
      ]
    },
    {
      "cell_type": "markdown",
      "source": [
        "## PUNTO 5\n",
        "Dado un número real x, construya un programa que permita determinar si el número es positivo, negativo o cero. Para cada caso de debe imprimir el texto que se especifica a continuación:\n",
        "* Positivo: \"El número x es positivo\"\n",
        "* Negativo: \"El número x es negativo\"\n",
        "* Cero (0): \"El número x es el neutro para la suma\""
      ],
      "metadata": {
        "id": "84gYvEgWqmKx"
      }
    },
    {
      "cell_type": "code",
      "source": [
        "x : float\n",
        "x = float(input(\"Ingrese un numero real: \"))\n",
        "if x > 0:\n",
        "  print(\"El número x es positivo\")\n",
        "elif x < 0:\n",
        "  print(\"El número  x es negativo\")\n",
        "elif x == 0:\n",
        "  print(\"El número x es el neutro para la suma\")"
      ],
      "metadata": {
        "colab": {
          "base_uri": "https://localhost:8080/"
        },
        "id": "kHwA2fhkqv2b",
        "outputId": "34e13881-cc22-4f99-9549-7caeb765fbc7"
      },
      "execution_count": 27,
      "outputs": [
        {
          "output_type": "stream",
          "name": "stdout",
          "text": [
            "Ingrese un numero real: 5\n",
            "El número x es positivo\n"
          ]
        }
      ]
    },
    {
      "cell_type": "markdown",
      "source": [
        "## PUNTO 6\n",
        "Dado el centro y el radio de un círculo, determinar si un punto de R2 pertenece o no al interior del círculo."
      ],
      "metadata": {
        "id": "Im_qsBHArBu2"
      }
    },
    {
      "cell_type": "code",
      "source": [
        "x = float(input(\"Ingrese la coordenada x del centro: \"))\n",
        "y = float(input(\"Ingrese la coordenada y del centro: \"))\n",
        "r = float(input(\"Ingrese el radio del círculo: \"))\n",
        "a = float(input(\"Ingrese la coordenada x del punto: \"))\n",
        "b = float(input(\"Ingrese la coordenada y del punto: \"))\n",
        "\n",
        "distancia_cuadrado = (x - a)**2 + (y - b)**2\n",
        "\n",
        "if distancia_cuadrado <= r**2:\n",
        "  print(\"El punto está dentro del círculo\")\n",
        "else:\n",
        "  print(\"El punto está fuera del círculo\")"
      ],
      "metadata": {
        "colab": {
          "base_uri": "https://localhost:8080/"
        },
        "id": "dAsMCzF6reLv",
        "outputId": "6af7fca1-c2cd-49c5-e11b-5dcf915ac3e6"
      },
      "execution_count": 28,
      "outputs": [
        {
          "output_type": "stream",
          "name": "stdout",
          "text": [
            "Ingrese la coordenada x del centro: 4\n",
            "Ingrese la coordenada y del centro: 5\n",
            "Ingrese el radio del círculo: 2\n",
            "Ingrese la coordenada x del punto: 4\n",
            "Ingrese la coordenada y del punto: 4\n",
            "El punto está dentro del círculo\n"
          ]
        }
      ]
    },
    {
      "cell_type": "markdown",
      "source": [
        "## PUNTO 7\n",
        "Dadas tres longitudes positivas, determinar si con esas longitudes se puede construir un triángulo."
      ],
      "metadata": {
        "id": "Tr8fbQNorsvH"
      }
    },
    {
      "cell_type": "code",
      "source": [
        "lado1 = float(input(\"Ingrese la longitud del primer lado: \"))\n",
        "lado2 = float(input(\"Ingrese la longitud del segundo lado: \"))\n",
        "lado3 = float(input(\"Ingrese la longitud del tercer lado: \"))\n",
        "if lado1 > 0 and lado2 > 0 and lado3 > 0:\n",
        "  if (lado1 + lado2 > lado3) and (lado1 + lado3 > lado2) and (lado2 + lado3 > lado1):\n",
        "    print(\"Si se puede construir un triángulo\")\n",
        "  else:\n",
        "    print(\"No se puede construir un triángulo\")"
      ],
      "metadata": {
        "colab": {
          "base_uri": "https://localhost:8080/"
        },
        "id": "Wj6_bHOEryAC",
        "outputId": "45e0499e-f665-470f-fecf-0420b331c727"
      },
      "execution_count": 34,
      "outputs": [
        {
          "output_type": "stream",
          "name": "stdout",
          "text": [
            "Ingrese la longitud del primer lado: 4\n",
            "Ingrese la longitud del segundo lado: 5\n",
            "Ingrese la longitud del tercer lado: 6\n",
            "Si se puede construir un triángulo\n"
          ]
        }
      ]
    },
    {
      "cell_type": "markdown",
      "source": [
        "## PUNTO 8\n",
        "Escriba un programa que reciba el nombre en minúsculas de un país de America y retorne la ciudad capital, si el país no pertenece al continente debe arrojar país no identificado."
      ],
      "metadata": {
        "id": "1HEoc-JOs-3z"
      }
    },
    {
      "cell_type": "code",
      "source": [
        "pais = input(\"Ingrese un pais de America en minusculas: \")\n",
        "\n",
        "match pais:\n",
        "  case \"canada\":\n",
        "    print(\"Ottawa\")\n",
        "  case \"estados unidos\":\n",
        "    print(\"Washington D.C\")\n",
        "  case \"mexico\":\n",
        "    print(\"Ciudad de Mexico\")\n",
        "  case \"belice\":\n",
        "    print(\"Belmopan\")\n",
        "  case \"costa rica\":\n",
        "    print(\"San Jose\")\n",
        "  case \"el salvador\":\n",
        "    print(\"San Salvador\")\n",
        "  case \"guatemala\":\n",
        "    print(\"Ciudad de Guatemala\")\n",
        "  case \"honduras\":\n",
        "    print(\"Tegucigalpa\")\n",
        "  case \"nicaragua\":\n",
        "    print(\"Managua\")\n",
        "  case \"panama\":\n",
        "    print(\"Ciudad de Panama\")\n",
        "  case \"antigua y barbuda\":\n",
        "    print(\"Saint John's\")\n",
        "  case \"barbados\":\n",
        "    print(\"Bridgetown\")\n",
        "  case \"bahamas\":\n",
        "    print(\"Nassau\")\n",
        "  case \"cuba\":\n",
        "    print(\"La Habana\")\n",
        "  case \"dominica\":\n",
        "    print(\"Roseau\")\n",
        "  case \"granada\":\n",
        "    print(\"Saint George's\")\n",
        "  case \"haiti\":\n",
        "    print(\"Puerto Principe\")\n",
        "  case \"jamaica\":\n",
        "    print(\"Kingston\")\n",
        "  case \"republica dominicana\":\n",
        "    print(\"Santo Domingo\")\n",
        "  case \"san cristobal y nieves\":\n",
        "    print(\"Basseterre\")\n",
        "  case \"san vicente y las granadinas\":\n",
        "    print(\"Kingstown\")\n",
        "  case \"trinidad y tobago\":\n",
        "    print(\"Puerto España\")\n",
        "  case \"santa lucia\":\n",
        "    print(\"Castries\")\n",
        "  case \"argentina\":\n",
        "    print(\"Buenos Aires\")\n",
        "  case \"bolivia\":\n",
        "    print(\"La Paz\")\n",
        "  case \"brasil\":\n",
        "    print(\"Brasilia\")\n",
        "  case \"chile\":\n",
        "    print(\"Santiago\")\n",
        "  case \"colombia\":\n",
        "    print(\"Bogota\")\n",
        "  case \"ecuador\":\n",
        "    print(\"Quito\")\n",
        "  case \"guyana\":\n",
        "    print(\"Georgetown\")\n",
        "  case \"paraguay\":\n",
        "    print(\"Asuncion\")\n",
        "  case \"peru\":\n",
        "    print(\"Lima\")\n",
        "  case \"surinam\":\n",
        "    print(\"Paramaribo\")\n",
        "  case \"uruguay\":\n",
        "    print(\"Montevideo\")\n",
        "  case \"venezuela\":\n",
        "    print(\"Caracas\")\n",
        "  case _:\n",
        "    print(\"Pais no identificado\")"
      ],
      "metadata": {
        "colab": {
          "base_uri": "https://localhost:8080/"
        },
        "id": "C4dVm72stJU_",
        "outputId": "90e99af0-62bf-4ff5-c4dc-74d180a28c29"
      },
      "execution_count": 33,
      "outputs": [
        {
          "output_type": "stream",
          "name": "stdout",
          "text": [
            "Ingrese un pais de America en minusculas: colombia\n",
            "Bogota\n"
          ]
        }
      ]
    }
  ]
}